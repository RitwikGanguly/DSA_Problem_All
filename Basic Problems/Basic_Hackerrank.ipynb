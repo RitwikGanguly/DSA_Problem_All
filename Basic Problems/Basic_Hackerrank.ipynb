{
 "cells": [
  {
   "cell_type": "markdown",
   "id": "13c22cff",
   "metadata": {},
   "source": [
    "##### Prob-1) Print Hello, World! to stdout."
   ]
  },
  {
   "cell_type": "code",
   "execution_count": 1,
   "id": "1154aecc",
   "metadata": {},
   "outputs": [
    {
     "name": "stdout",
     "output_type": "stream",
     "text": [
      "Hello, World!\n"
     ]
    }
   ],
   "source": [
    "print(\"Hello, World!\")"
   ]
  },
  {
   "cell_type": "markdown",
   "id": "70b0bb41",
   "metadata": {},
   "source": [
    "##### prob-2) link - https://www.hackerrank.com/challenges/py-if-else/problem?isFullScreen=true\n",
    "\n",
    "- Print Weird if the number is weird. Otherwise, print Not Weird.\n"
   ]
  },
  {
   "cell_type": "code",
   "execution_count": 2,
   "id": "87c57ffa",
   "metadata": {},
   "outputs": [
    {
     "name": "stdout",
     "output_type": "stream",
     "text": [
      "3\n",
      "Weird\n"
     ]
    }
   ],
   "source": [
    "n =int(input())\n",
    "if n % 2 != 0:\n",
    "    print(\"Weird\")\n",
    "    \n",
    "else: \n",
    "    if n >= 2 and n <= 5:\n",
    "        if n%2 == 0:\n",
    "            print(\"Not Weird\")\n",
    "        \n",
    "    elif n >= 6 and n <= 20:\n",
    "        if n%2 == 0:\n",
    "            print(\"Weird\")\n",
    "        \n",
    "    elif n > 20:\n",
    "        if n%2 == 0:\n",
    "            print(\"Not Weird\")\n",
    "        "
   ]
  },
  {
   "cell_type": "markdown",
   "id": "fb80e67e",
   "metadata": {},
   "source": [
    "##### prob-3) link - https://www.hackerrank.com/challenges/python-arithmetic-operators/problem?isFullScreen=true\n",
    "- do sum, subtract, multiply"
   ]
  },
  {
   "cell_type": "code",
   "execution_count": 4,
   "id": "f24e5c40",
   "metadata": {},
   "outputs": [
    {
     "name": "stdout",
     "output_type": "stream",
     "text": [
      "5\n",
      "3\n",
      "----------------------------------\n",
      "8\n",
      "2\n",
      "15\n"
     ]
    }
   ],
   "source": [
    "a = int(input())\n",
    "b = int(input())\n",
    "print(\"----------------------------------\")\n",
    "print(a+b)\n",
    "print(a-b)\n",
    "print(a*b)"
   ]
  },
  {
   "cell_type": "markdown",
   "id": "70f80b21",
   "metadata": {},
   "source": [
    "##### prob-4) link - https://www.hackerrank.com/challenges/python-division/problem?isFullScreen=true\n",
    "- Division in python"
   ]
  },
  {
   "cell_type": "code",
   "execution_count": 6,
   "id": "7d46d94b",
   "metadata": {},
   "outputs": [
    {
     "name": "stdout",
     "output_type": "stream",
     "text": [
      "8\n",
      "5\n",
      "----------------------------------\n",
      "1\n",
      "1.6\n"
     ]
    }
   ],
   "source": [
    "a = int(input())\n",
    "b = int(input())\n",
    "\n",
    "print(\"----------------------------------\")\n",
    "\n",
    "print(a//b)\n",
    "print(a/b)"
   ]
  },
  {
   "cell_type": "markdown",
   "id": "bb0b5178",
   "metadata": {},
   "source": [
    "##### prob-5) link - https://www.hackerrank.com/challenges/python-loops/problem?isFullScreen=true\n",
    "- make list and afterthat make the square of those numbers"
   ]
  },
  {
   "cell_type": "code",
   "execution_count": 7,
   "id": "226f2121",
   "metadata": {},
   "outputs": [
    {
     "name": "stdout",
     "output_type": "stream",
     "text": [
      "5\n",
      "0\n",
      "1\n",
      "4\n",
      "9\n",
      "16\n"
     ]
    }
   ],
   "source": [
    "n = int(input())\n",
    "    \n",
    "l = []\n",
    "\n",
    "for i in range(n):\n",
    "    l.append(i)\n",
    "\n",
    "for i in l:\n",
    "    print(i**2)"
   ]
  },
  {
   "cell_type": "markdown",
   "id": "be981b9c",
   "metadata": {},
   "source": [
    "##### prob-6) link - https://www.hackerrank.com/challenges/write-a-function/problem?isFullScreen=true\n",
    "- check a year is leap year or not"
   ]
  },
  {
   "cell_type": "code",
   "execution_count": 8,
   "id": "19d695df",
   "metadata": {},
   "outputs": [
    {
     "name": "stdout",
     "output_type": "stream",
     "text": [
      "2024\n",
      "True\n"
     ]
    }
   ],
   "source": [
    "def is_leap(year):\n",
    "    \n",
    "    # Write your logic here\n",
    "    if (year % 4 == 0 and year % 100 != 0) or (year % 400 == 0):\n",
    "        return True\n",
    "    else:\n",
    "        return False\n",
    "\n",
    "year = int(input())\n",
    "print(is_leap(year))"
   ]
  },
  {
   "cell_type": "markdown",
   "id": "3b774425",
   "metadata": {},
   "source": [
    "##### prob-7) lik - https://www.hackerrank.com/challenges/python-print/problem?isFullScreen=true\n",
    "- print the list of numbers from 1 to n"
   ]
  },
  {
   "cell_type": "code",
   "execution_count": 9,
   "id": "480b374b",
   "metadata": {},
   "outputs": [
    {
     "name": "stdout",
     "output_type": "stream",
     "text": [
      "5\n",
      "12345"
     ]
    }
   ],
   "source": [
    "n = int(input())\n",
    "for i in range(1, n+1):\n",
    "    print(i, end = \"\")"
   ]
  },
  {
   "cell_type": "markdown",
   "id": "86042aed",
   "metadata": {},
   "source": [
    "## Thank YOU 😊😊"
   ]
  }
 ],
 "metadata": {
  "kernelspec": {
   "display_name": "Python 3 (ipykernel)",
   "language": "python",
   "name": "python3"
  },
  "language_info": {
   "codemirror_mode": {
    "name": "ipython",
    "version": 3
   },
   "file_extension": ".py",
   "mimetype": "text/x-python",
   "name": "python",
   "nbconvert_exporter": "python",
   "pygments_lexer": "ipython3",
   "version": "3.9.7"
  }
 },
 "nbformat": 4,
 "nbformat_minor": 5
}
