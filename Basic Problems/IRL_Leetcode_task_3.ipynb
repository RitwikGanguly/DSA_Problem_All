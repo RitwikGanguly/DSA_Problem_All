{
 "cells": [
  {
   "cell_type": "markdown",
   "id": "a58127bf",
   "metadata": {},
   "source": [
    "#### prob-1) Given the array of integers nums, you will choose two different indices i and j of that array. Return the maximum value of (nums[i]-1)*(nums[j]-1)."
   ]
  },
  {
   "cell_type": "markdown",
   "id": "7097f355",
   "metadata": {},
   "source": [
    "- prob link - https://leetcode.com/problems/maximum-product-of-two-elements-in-an-array/description/"
   ]
  },
  {
   "cell_type": "code",
   "execution_count": 2,
   "id": "8550ffbb",
   "metadata": {},
   "outputs": [
    {
     "name": "stdout",
     "output_type": "stream",
     "text": [
      "12\n"
     ]
    }
   ],
   "source": [
    "def func(nums):\n",
    "        nums.sort()\n",
    "        return (nums[-1]-1)*(nums[-2]-1)\n",
    "    \n",
    "print(func([3,4,5,2]))"
   ]
  },
  {
   "cell_type": "markdown",
   "id": "8484b89a",
   "metadata": {},
   "source": [
    "#### prob-2) There are n soldiers standing in a line. Each soldier is assigned a unique rating value. You have to form a team of 3 soldiers amongst them under the following rules: Choose 3 soldiers with index (i, j, k) with rating (rating[i], rating[j], rating[k]).A team is valid if: (rating[i] < rating[j] < rating[k]) or (rating[i] > rating[j] > rating[k]) where (0 <= i < j < k < n). Return the number of teams you can form given the conditions. (soldiers can be part of multiple teams).\n",
    "\n",
    "\n",
    "\n",
    "\n",
    "\n"
   ]
  },
  {
   "cell_type": "markdown",
   "id": "8cbbc9f6",
   "metadata": {},
   "source": [
    "- prob link - https://leetcode.com/problems/count-number-of-teams/description/"
   ]
  },
  {
   "cell_type": "code",
   "execution_count": 3,
   "id": "9be8a6db",
   "metadata": {},
   "outputs": [
    {
     "name": "stdout",
     "output_type": "stream",
     "text": [
      "3\n"
     ]
    }
   ],
   "source": [
    "def func(rating):\n",
    "        n = len(rating)\n",
    "        up = [0] * n\n",
    "        down = [0] * n\n",
    "        \n",
    "        res = 0\n",
    "        \n",
    "        for i in range(n-1, -1, -1):\n",
    "            for j in range(i+1, n):\n",
    "                if rating[i] < rating[j]:\n",
    "                    up[i] += 1\n",
    "                    res += up[j]\n",
    "                else:\n",
    "                    down[i] += 1\n",
    "                    res += down[j]\n",
    "        \n",
    "        return res\n",
    "    \n",
    "print(func([2,5,3,4,1]))"
   ]
  },
  {
   "cell_type": "markdown",
   "id": "f15f5f6a",
   "metadata": {},
   "source": [
    "#### prob-3) Given two integer arrays startTime and endTime and given an integer queryTime. The ith student started doing their homework at the time startTime[i] and finished it at time endTime[i]. Return the number of students doing their homework at time queryTime. More formally, return the number of students where queryTime lays in the interval [startTime[i], endTime[i]] inclusive.\n",
    "\n",
    "\n",
    "\n"
   ]
  },
  {
   "cell_type": "markdown",
   "id": "a13de0b0",
   "metadata": {},
   "source": [
    "- prob link - https://leetcode.com/problems/number-of-students-doing-homework-at-a-given-time/description/"
   ]
  },
  {
   "cell_type": "code",
   "execution_count": 4,
   "id": "3d6d5e89",
   "metadata": {},
   "outputs": [
    {
     "name": "stdout",
     "output_type": "stream",
     "text": [
      "1\n"
     ]
    }
   ],
   "source": [
    "def func(startTime, endTime, queryTime):\n",
    "        s = startTime\n",
    "        e = endTime\n",
    "        q = queryTime\n",
    "\n",
    "        c=0\n",
    "        for i in range(len(s)):\n",
    "            if s[i]<=q<=e[i]:\n",
    "                c+=1\n",
    "\n",
    "        return c\n",
    "    \n",
    "print(func([1,2,3], [3,2,7], 4))"
   ]
  },
  {
   "cell_type": "markdown",
   "id": "9e72bbe8",
   "metadata": {},
   "source": [
    "#### prob-4) Given an integer num, return the number of steps to reduce it to zero. In one step, if the current number is even, you have to divide it by 2, otherwise, you have to subtract 1 from it.\n",
    "\n"
   ]
  },
  {
   "cell_type": "markdown",
   "id": "5992ec42",
   "metadata": {},
   "source": [
    "- prob link - https://leetcode.com/problems/number-of-steps-to-reduce-a-number-to-zero/description/"
   ]
  },
  {
   "cell_type": "code",
   "execution_count": 6,
   "id": "92285fbd",
   "metadata": {},
   "outputs": [
    {
     "name": "stdout",
     "output_type": "stream",
     "text": [
      "6\n"
     ]
    }
   ],
   "source": [
    "def func(num):\n",
    "    n = num\n",
    "    c=0\n",
    "    while(n != 0):\n",
    "\n",
    "\n",
    "        if n % 2 == 0:\n",
    "            n = n // 2\n",
    "            c+=1\n",
    "        else:\n",
    "            n -= 1\n",
    "            c+=1\n",
    "\n",
    "    return c\n",
    "\n",
    "print(func(14))\n"
   ]
  },
  {
   "cell_type": "markdown",
   "id": "2d707445",
   "metadata": {},
   "source": [
    "#### prob-5) Given an integer n, return an array ans of length n + 1 such that for each i (0 <= i <= n), ans[i] is the number of 1's in the binary representation of i."
   ]
  },
  {
   "cell_type": "markdown",
   "id": "8e80ae8c",
   "metadata": {},
   "source": [
    "- prob link - https://leetcode.com/problems/counting-bits/description/"
   ]
  },
  {
   "cell_type": "code",
   "execution_count": null,
   "id": "1050ff57",
   "metadata": {},
   "outputs": [],
   "source": [
    "def func(n):\n",
    "        ans = [0 for _ in range(n+1)]\n",
    "        for i in range(n+1):\n",
    "            ans[i] = ans[i//2] + (i%2)   \n",
    "\n",
    "        return ans\n",
    "print()"
   ]
  }
 ],
 "metadata": {
  "kernelspec": {
   "display_name": "Python 3 (ipykernel)",
   "language": "python",
   "name": "python3"
  },
  "language_info": {
   "codemirror_mode": {
    "name": "ipython",
    "version": 3
   },
   "file_extension": ".py",
   "mimetype": "text/x-python",
   "name": "python",
   "nbconvert_exporter": "python",
   "pygments_lexer": "ipython3",
   "version": "3.9.7"
  }
 },
 "nbformat": 4,
 "nbformat_minor": 5
}
