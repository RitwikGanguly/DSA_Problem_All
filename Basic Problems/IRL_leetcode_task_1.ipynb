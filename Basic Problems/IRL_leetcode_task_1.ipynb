{
 "cells": [
  {
   "cell_type": "markdown",
   "id": "2268bfd6",
   "metadata": {},
   "source": [
    "#### prob-1) Given an array nums. We define a running sum of an array as runningSum[i] = sum(nums[0]…nums[i]). Return the running sum of nums."
   ]
  },
  {
   "cell_type": "markdown",
   "id": "bf034a77",
   "metadata": {},
   "source": [
    "- prob link - https://leetcode.com/problems/running-sum-of-1d-array/description/"
   ]
  },
  {
   "cell_type": "code",
   "execution_count": 4,
   "id": "b86461b9",
   "metadata": {},
   "outputs": [
    {
     "name": "stdout",
     "output_type": "stream",
     "text": [
      "[1, 3, 6, 10]\n"
     ]
    }
   ],
   "source": [
    "def func(nums):\n",
    "    l = [nums[0]]\n",
    "    for i in range(1, len(nums)):\n",
    "        l.append(l[i-1]+nums[i])\n",
    "        \n",
    "    return l\n",
    "\n",
    "a = [1,  2, 3, 4]\n",
    "print(func(a))"
   ]
  },
  {
   "cell_type": "markdown",
   "id": "5544c887",
   "metadata": {},
   "source": [
    "#### prob-2) Given the array nums consisting of 2n elements in the form [x1,x2,...,xn,y1,y2,...,yn]. Return the array in the form [x1,y1,x2,y2,...,xn,yn]."
   ]
  },
  {
   "cell_type": "markdown",
   "id": "f8e34b44",
   "metadata": {},
   "source": [
    "- prob link - https://leetcode.com/problems/shuffle-the-array/description/"
   ]
  },
  {
   "cell_type": "code",
   "execution_count": 6,
   "id": "ea7f7680",
   "metadata": {},
   "outputs": [
    {
     "name": "stdout",
     "output_type": "stream",
     "text": [
      "[2, 3, 5, 4, 1, 7]\n"
     ]
    }
   ],
   "source": [
    "def shuffle(nums, n):\n",
    "        l = []\n",
    "        for i in range(n):\n",
    "            l.append(nums[i])\n",
    "            l.append(nums[i+n])\n",
    "\n",
    "        return l\n",
    "    \n",
    "nums = [2,5,1,3,4,7]\n",
    "n = 3\n",
    "print(shuffle(nums, n))"
   ]
  },
  {
   "cell_type": "markdown",
   "id": "2a4bebbc",
   "metadata": {},
   "source": [
    "#### prob-3) There are n kids with candies. You are given an integer array candies, where each candies[i] represents the number of candies the ith kid has, and an integer extraCandies, denoting the number of extra candies that you have. Return a boolean array result of length n, where result[i] is true if, after giving the ith kid all the extraCandies, they will have the greatest number of candies among all the kids, or false otherwise. Note that multiple kids can have the greatest number of candies."
   ]
  },
  {
   "cell_type": "markdown",
   "id": "2de9f1de",
   "metadata": {},
   "source": [
    "- prob link - https://leetcode.com/problems/kids-with-the-greatest-number-of-candies/description/"
   ]
  },
  {
   "cell_type": "code",
   "execution_count": 7,
   "id": "fa04feeb",
   "metadata": {},
   "outputs": [
    {
     "name": "stdout",
     "output_type": "stream",
     "text": [
      "[True, True, True, False, True]\n"
     ]
    }
   ],
   "source": [
    "def kidsWithCandies(candies, extraCandies):\n",
    "        c = candies\n",
    "        e = extraCandies\n",
    "        ans = []\n",
    "        for i in c:\n",
    "            m = max(c)\n",
    "            if i+e >= m:\n",
    "                ans.append(True)\n",
    "\n",
    "            else:\n",
    "                ans.append(False)\n",
    "        return ans\n",
    "    \n",
    "a = [2,3,5,1,3]\n",
    "b = 3\n",
    "print(kidsWithCandies(a, b))"
   ]
  },
  {
   "cell_type": "code",
   "execution_count": null,
   "id": "baf933ac",
   "metadata": {},
   "outputs": [],
   "source": []
  }
 ],
 "metadata": {
  "kernelspec": {
   "display_name": "Python 3 (ipykernel)",
   "language": "python",
   "name": "python3"
  },
  "language_info": {
   "codemirror_mode": {
    "name": "ipython",
    "version": 3
   },
   "file_extension": ".py",
   "mimetype": "text/x-python",
   "name": "python",
   "nbconvert_exporter": "python",
   "pygments_lexer": "ipython3",
   "version": "3.9.7"
  }
 },
 "nbformat": 4,
 "nbformat_minor": 5
}
