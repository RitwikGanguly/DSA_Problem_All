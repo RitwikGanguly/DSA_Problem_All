{
 "cells": [
  {
   "cell_type": "markdown",
   "id": "a360d108",
   "metadata": {},
   "source": [
    "#### prob-1) Given a valid (IPv4) IP address, return a defanged version of that IP address. A defanged IP address replaces every period \".\" with \"[.]\".\n",
    "\n"
   ]
  },
  {
   "cell_type": "markdown",
   "id": "fa19d3cc",
   "metadata": {},
   "source": [
    "- prob link - https://leetcode.com/problems/defanging-an-ip-address/description/"
   ]
  },
  {
   "cell_type": "code",
   "execution_count": 2,
   "id": "557e294f",
   "metadata": {},
   "outputs": [
    {
     "name": "stdout",
     "output_type": "stream",
     "text": [
      "255[.]100[.]50[.]0\n"
     ]
    }
   ],
   "source": [
    "def func(address):\n",
    "        s = address\n",
    "        for i in s:\n",
    "            if i == \".\":\n",
    "                y = s.replace(i, \"[.]\")\n",
    "\n",
    "        return y\n",
    "         \n",
    "print(func(\"255.100.50.0\"))"
   ]
  },
  {
   "cell_type": "markdown",
   "id": "56f1619d",
   "metadata": {},
   "source": [
    "#### prob-2) Given an array nums of integers, return how many of them contain an even number of digits."
   ]
  },
  {
   "cell_type": "markdown",
   "id": "413b4eb3",
   "metadata": {},
   "source": [
    "- prob link - https://leetcode.com/problems/find-numbers-with-even-number-of-digits/description/"
   ]
  },
  {
   "cell_type": "code",
   "execution_count": 3,
   "id": "95c4b37f",
   "metadata": {},
   "outputs": [
    {
     "name": "stdout",
     "output_type": "stream",
     "text": [
      "2\n"
     ]
    }
   ],
   "source": [
    "def func(nums):\n",
    "        c=0\n",
    "        for i in nums:\n",
    "            if len(str(i)) % 2 == 0:\n",
    "                c+=1\n",
    "\n",
    "        return c\n",
    "    \n",
    "print(func([12,345,2,6,7896]))"
   ]
  },
  {
   "cell_type": "markdown",
   "id": "1d065b92",
   "metadata": {},
   "source": [
    "#### prob-3) Given an array of integers nums, return the number of good pairs. A pair (i, j) is called good if nums[i] == nums[j] and i < j.\n",
    "\n"
   ]
  },
  {
   "cell_type": "markdown",
   "id": "926b7872",
   "metadata": {},
   "source": [
    "- prob link - https://leetcode.com/problems/number-of-good-pairs/description/"
   ]
  },
  {
   "cell_type": "code",
   "execution_count": 4,
   "id": "354ad673",
   "metadata": {},
   "outputs": [
    {
     "name": "stdout",
     "output_type": "stream",
     "text": [
      "4\n"
     ]
    }
   ],
   "source": [
    "def func(nums):\n",
    "        c=0\n",
    "        n = len(nums)\n",
    "        for i in range(n):\n",
    "            for j in range(i+1, n):\n",
    "                if nums[i] == nums[j]:\n",
    "                    c+=1\n",
    "\n",
    "        return c\n",
    "    \n",
    "print(func([1,2,3,1,1,3]))"
   ]
  },
  {
   "cell_type": "markdown",
   "id": "55966371",
   "metadata": {},
   "source": [
    "#### prob-4) Given the array nums, for each nums[i] find out how many numbers in the array are smaller than it. That is, for each nums[i] you have to count the number of valid j's such that j != i and nums[j] < nums[i]. Return the answer in an array.\n",
    "\n"
   ]
  },
  {
   "cell_type": "markdown",
   "id": "4776638c",
   "metadata": {},
   "source": [
    "- prob link - https://leetcode.com/problems/how-many-numbers-are-smaller-than-the-current-number/description/"
   ]
  },
  {
   "cell_type": "code",
   "execution_count": 5,
   "id": "56df4148",
   "metadata": {},
   "outputs": [
    {
     "name": "stdout",
     "output_type": "stream",
     "text": [
      "[4, 0, 1, 1, 3]\n"
     ]
    }
   ],
   "source": [
    "def func(nums):\n",
    "        l=[]\n",
    "        s = sorted(nums)\n",
    "        for i in nums:\n",
    "            l.append(s.index(i))\n",
    "\n",
    "        return l\n",
    "    \n",
    "print(func([8,1,2,2,3]))"
   ]
  },
  {
   "cell_type": "markdown",
   "id": "6961892f",
   "metadata": {},
   "source": [
    "#### prob-5) Given an integer number n, return the difference between the product of its digits and the sum of its digits."
   ]
  },
  {
   "cell_type": "markdown",
   "id": "75f8d3c3",
   "metadata": {},
   "source": [
    "- prob link - https://leetcode.com/problems/subtract-the-product-and-sum-of-digits-of-an-integer/description/"
   ]
  },
  {
   "cell_type": "code",
   "execution_count": 6,
   "id": "b918ef5b",
   "metadata": {},
   "outputs": [
    {
     "name": "stdout",
     "output_type": "stream",
     "text": [
      "20\n"
     ]
    }
   ],
   "source": [
    "def func(n):\n",
    "        a = 0\n",
    "        m = 1\n",
    "        for i in str(n):\n",
    "            a = a+ int(i)\n",
    "            m = m*int(i)\n",
    "\n",
    "        return (m-a)\n",
    "    \n",
    "print(func(352))"
   ]
  },
  {
   "cell_type": "markdown",
   "id": "55183186",
   "metadata": {},
   "source": [
    "#### prob-6) You are given an integer n and an integer start. Define an array nums where nums[i] = start + 2 * i (0-indexed) and n == nums.length. Return the bitwise XOR of all elements of nums.\n",
    "\n",
    "\n",
    "\n",
    "\n"
   ]
  },
  {
   "cell_type": "markdown",
   "id": "aa36dd2c",
   "metadata": {},
   "source": [
    "- prob link - https://leetcode.com/problems/xor-operation-in-an-array/description/"
   ]
  },
  {
   "cell_type": "code",
   "execution_count": null,
   "id": "bd3fbbd5",
   "metadata": {},
   "outputs": [],
   "source": [
    "def xorOperation(n, start):\n",
    "        l = []\n",
    "        for i in range(n):\n",
    "            l.append(start + 2 * i)\n",
    "        ope = l[0];\n",
    "        for i in range(1, n):\n",
    "            ope = ope ^ l[i]\n",
    "        \n",
    "        return ope\n",
    "    \n"
   ]
  }
 ],
 "metadata": {
  "kernelspec": {
   "display_name": "Python 3 (ipykernel)",
   "language": "python",
   "name": "python3"
  },
  "language_info": {
   "codemirror_mode": {
    "name": "ipython",
    "version": 3
   },
   "file_extension": ".py",
   "mimetype": "text/x-python",
   "name": "python",
   "nbconvert_exporter": "python",
   "pygments_lexer": "ipython3",
   "version": "3.9.7"
  }
 },
 "nbformat": 4,
 "nbformat_minor": 5
}
