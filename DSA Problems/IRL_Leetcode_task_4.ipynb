{
 "cells": [
  {
   "cell_type": "markdown",
   "id": "c178aa94",
   "metadata": {},
   "source": [
    "#### prob-1) Given a non-empty array of integers nums, every element appears twice except for one. Find that single one.You must implement a solution with a linear runtime complexity and use only constant extra space.\n",
    "\n"
   ]
  },
  {
   "cell_type": "markdown",
   "id": "1160ea14",
   "metadata": {},
   "source": [
    "- prob link - https://leetcode.com/problems/single-number/"
   ]
  },
  {
   "cell_type": "code",
   "execution_count": 1,
   "id": "29e6f353",
   "metadata": {},
   "outputs": [
    {
     "name": "stdout",
     "output_type": "stream",
     "text": [
      "1\n"
     ]
    }
   ],
   "source": [
    "def singleNumber(nums):\n",
    "        l = 0\n",
    "        for i in range(len(nums)):\n",
    "            l ^= nums[i]\n",
    "            \n",
    "        return l\n",
    "    \n",
    "print(singleNumber([2, 2, 1]))"
   ]
  },
  {
   "cell_type": "markdown",
   "id": "ba258334",
   "metadata": {},
   "source": [
    "#### prob-2) You are given an integer array arr. Sort the integers in the array in ascending order by the number of 1's in their binary representation and in case of two or more integers have the same number of 1's you have to sort them in ascending order.Return the array after sorting it.\n",
    "\n"
   ]
  },
  {
   "cell_type": "markdown",
   "id": "105dc55f",
   "metadata": {},
   "source": [
    "- prob link - https://leetcode.com/problems/sort-integers-by-the-number-of-1-bits/description/"
   ]
  },
  {
   "cell_type": "code",
   "execution_count": 2,
   "id": "f7660b42",
   "metadata": {},
   "outputs": [
    {
     "name": "stdout",
     "output_type": "stream",
     "text": [
      "[0, 1, 2, 4, 8, 3, 5, 6, 7]\n"
     ]
    }
   ],
   "source": [
    "def func(arr):\n",
    "        arr = [(bin(i).count('1'), i) for i in arr]\n",
    "        arr.sort()\n",
    "        return [i[1] for i in arr]\n",
    "    \n",
    "print(func([0,1,2,3,4,5,6,7,8]))"
   ]
  },
  {
   "cell_type": "markdown",
   "id": "8fea0702",
   "metadata": {},
   "source": [
    "#### prob-3) Given an integer array nums, in which exactly two elements appear only once and all the other elements appear exactly twice. Find the two elements that appear only once. You can return the answer in any order.You must write an algorithm that runs in linear runtime complexity and uses only constant extra space.\n",
    "\n",
    "\n",
    "\n",
    " "
   ]
  },
  {
   "cell_type": "markdown",
   "id": "564c45d8",
   "metadata": {},
   "source": [
    "- prob link - https://leetcode.com/problems/single-number-iii/description/"
   ]
  },
  {
   "cell_type": "code",
   "execution_count": 3,
   "id": "13265776",
   "metadata": {},
   "outputs": [
    {
     "name": "stdout",
     "output_type": "stream",
     "text": [
      "[3, 5]\n"
     ]
    }
   ],
   "source": [
    "def func(nums):\n",
    "        l=[]\n",
    "        for i in range(len(nums)):\n",
    "            if nums.count(nums[i]) == 1:\n",
    "                l.append(nums[i])\n",
    "\n",
    "        return l\n",
    "    \n",
    "print(func([1,2,1,3,2,5]))"
   ]
  },
  {
   "cell_type": "markdown",
   "id": "6af0ee9f",
   "metadata": {},
   "source": [
    "#### prob-4) Given an integer array nums of unique elements, return all possible subsets (the power set).The solution set must not contain duplicate subsets. Return the solution in any order.\n",
    "\n",
    "\n",
    "\n"
   ]
  },
  {
   "cell_type": "markdown",
   "id": "e225d5b3",
   "metadata": {},
   "source": [
    "- prob link - https://leetcode.com/problems/subsets/description/"
   ]
  },
  {
   "cell_type": "code",
   "execution_count": null,
   "id": "f254aa2e",
   "metadata": {},
   "outputs": [],
   "source": [
    "def func(self, nums: List[int]) -> List[List[int]]:\n",
    "        n=len(nums)\n",
    "        ans=[]\n",
    "        def solve(idx,lst):\n",
    "            if idx>=n:\n",
    "                ans.append(lst)\n",
    "                return \n",
    "            solve(idx+1,lst)                  \n",
    "            solve(idx+1,lst+[nums[idx]])       \n",
    "        solve(0,[])\n",
    "        return ans\n"
   ]
  }
 ],
 "metadata": {
  "kernelspec": {
   "display_name": "Python 3 (ipykernel)",
   "language": "python",
   "name": "python3"
  },
  "language_info": {
   "codemirror_mode": {
    "name": "ipython",
    "version": 3
   },
   "file_extension": ".py",
   "mimetype": "text/x-python",
   "name": "python",
   "nbconvert_exporter": "python",
   "pygments_lexer": "ipython3",
   "version": "3.9.7"
  }
 },
 "nbformat": 4,
 "nbformat_minor": 5
}
