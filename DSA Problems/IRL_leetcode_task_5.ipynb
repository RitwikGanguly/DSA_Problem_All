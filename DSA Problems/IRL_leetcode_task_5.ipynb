{
 "cells": [
  {
   "cell_type": "markdown",
   "id": "3dda8d26",
   "metadata": {},
   "source": [
    "#### prob - 1) Given an integer array nums of unique elements, return all possible subsets. The solution set must not contain duplicate subsets. Return the solution in any order."
   ]
  },
  {
   "cell_type": "markdown",
   "id": "7e7635fd",
   "metadata": {},
   "source": [
    "- prob link - https://leetcode.com/problems/subsets/"
   ]
  },
  {
   "cell_type": "code",
   "execution_count": 2,
   "id": "11735e38",
   "metadata": {},
   "outputs": [
    {
     "name": "stdout",
     "output_type": "stream",
     "text": [
      "[[], [3], [2], [2, 3], [1], [1, 3], [1, 2], [1, 2, 3]]\n"
     ]
    }
   ],
   "source": [
    "def func(nums):\n",
    "        n=len(nums)\n",
    "        ans=[]\n",
    "        def solve(idx,lst):\n",
    "            if idx>=n:\n",
    "                ans.append(lst)\n",
    "                return \n",
    "            solve(idx+1,lst)                  \n",
    "            solve(idx+1,lst+[nums[idx]])       \n",
    "        solve(0,[])\n",
    "        return ans\n",
    "    \n",
    "print(func([1, 2, 3]))"
   ]
  },
  {
   "cell_type": "markdown",
   "id": "7212a25a",
   "metadata": {},
   "source": [
    "#### prob-2) The Hamming distance between two integers is the number of positions at which the corresponding bits are different.Given two integers x and y, return the Hamming distance between them.\n",
    "\n",
    "\n",
    "\n",
    " "
   ]
  },
  {
   "cell_type": "markdown",
   "id": "9423a41c",
   "metadata": {},
   "source": [
    "- prob link - https://leetcode.com/problems/hamming-distance/description/"
   ]
  },
  {
   "cell_type": "code",
   "execution_count": 3,
   "id": "1a265af3",
   "metadata": {},
   "outputs": [
    {
     "name": "stdout",
     "output_type": "stream",
     "text": [
      "2\n"
     ]
    }
   ],
   "source": [
    "def func(x, y):\n",
    "        z = x ^ y\n",
    "        \n",
    "       \n",
    "        c = 0\n",
    "        while z > 0:\n",
    "            c += z % 2\n",
    "            z = z // 2\n",
    "        \n",
    "        return c\n",
    "    \n",
    "print(func(1, 4))"
   ]
  },
  {
   "cell_type": "markdown",
   "id": "f0352d78",
   "metadata": {},
   "source": [
    "#### prob-3) Given an integer array nums whYou must implement a solution with a linear runtime complexity and use only constant extra space.ere every element appears three times except for one, which appears exactly once. Find the single element and return it.\n",
    "\n"
   ]
  },
  {
   "cell_type": "markdown",
   "id": "967d0698",
   "metadata": {},
   "source": [
    "- prob link - "
   ]
  }
 ],
 "metadata": {
  "kernelspec": {
   "display_name": "Python 3 (ipykernel)",
   "language": "python",
   "name": "python3"
  },
  "language_info": {
   "codemirror_mode": {
    "name": "ipython",
    "version": 3
   },
   "file_extension": ".py",
   "mimetype": "text/x-python",
   "name": "python",
   "nbconvert_exporter": "python",
   "pygments_lexer": "ipython3",
   "version": "3.9.7"
  }
 },
 "nbformat": 4,
 "nbformat_minor": 5
}
